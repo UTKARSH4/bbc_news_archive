{
  "nbformat": 4,
  "nbformat_minor": 0,
  "metadata": {
    "colab": {
      "name": "bbc_news_archive.ipynb",
      "provenance": [],
      "collapsed_sections": [],
      "authorship_tag": "ABX9TyOjoL75iQurox5b4LiBFJyL"
    },
    "kernelspec": {
      "name": "python3",
      "display_name": "Python 3"
    }
  },
  "cells": [
    {
      "cell_type": "code",
      "metadata": {
        "id": "lhsv8G3UbtLb"
      },
      "source": [
        "import tensorflow as tf\n",
        "from tensorflow.keras.preprocessing.text import Tokenizer\n",
        "from tensorflow.keras.preprocessing.sequence import pad_sequences\n",
        "import numpy as np\n",
        "import csv\n",
        "import pandas as pd\n",
        "import matplotlib.pyplot as plt"
      ],
      "execution_count": 415,
      "outputs": []
    },
    {
      "cell_type": "code",
      "metadata": {
        "id": "NvVAzc76c731"
      },
      "source": [
        "## meta data\n",
        "data=[]\n",
        "with open('bbc-news-data.csv','r') as f:\n",
        "  for row in csv.reader(f):\n",
        "    data.append(row[0].split('\\t'))\n",
        "\n",
        "\n",
        "## content of data\n",
        "data_cont=[]\n",
        "with open('bbc-news-data.csv','r') as f:\n",
        "  for row in csv.reader(f):\n",
        "    data_cont.append(row[1:])   \n",
        "\n",
        "col=data[0]\n",
        "df = pd.DataFrame(data[1:],columns=col) \n",
        "\n",
        "\n",
        "for i in range(len(data)):\n",
        "  data_cont[i].insert(0, data[i][-1])\n",
        "    \n"
      ],
      "execution_count": 416,
      "outputs": []
    },
    {
      "cell_type": "code",
      "metadata": {
        "id": "ENPQLM1iiZOJ"
      },
      "source": [
        "del df['content']\n",
        "df['content_all']=data_cont[1:]\n",
        "#df=df['category','file','title','content_all']\n"
      ],
      "execution_count": 417,
      "outputs": []
    },
    {
      "cell_type": "code",
      "metadata": {
        "id": "iWuhL7hKCYHg"
      },
      "source": [
        "df['merged']=''\n",
        "for i in range(df.shape[0]):\n",
        "  df.merged[i] = ' '.join(df.iloc[i][3])"
      ],
      "execution_count": 418,
      "outputs": []
    },
    {
      "cell_type": "code",
      "metadata": {
        "id": "AbQ2NO23Bkhv"
      },
      "source": [
        "df.merged=df.merged.apply(lambda x: x.lower())\n",
        "df.merged=df.merged.apply(lambda x: x.split())\n"
      ],
      "execution_count": 419,
      "outputs": []
    },
    {
      "cell_type": "code",
      "metadata": {
        "id": "h1Jlt1YSgEuW"
      },
      "source": [
        "def preprocess(value):\n",
        "  return [x for x in value if x not in stopwords]\n",
        "df.merged=df.merged.apply(lambda x: preprocess(x))\n"
      ],
      "execution_count": 420,
      "outputs": []
    },
    {
      "cell_type": "code",
      "metadata": {
        "id": "l53ZRnTFrUlF"
      },
      "source": [
        "\n",
        "stopwords = [ \"a\", \"about\", \"above\", \"after\", \"again\", \"against\", \"all\", \"am\", \"an\", \"and\", \"any\", \"are\", \"as\", \"at\", \"be\", \"because\", \"been\", \"before\", \"being\", \"below\", \"between\", \"both\", \"but\", \"by\", \"could\", \"did\", \"do\", \"does\", \"doing\", \"down\", \"during\", \"each\", \"few\", \"for\", \"from\", \"further\", \"had\", \"has\", \"have\", \"having\", \"he\", \"he'd\", \"he'll\", \"he's\", \"her\", \"here\", \"here's\", \"hers\", \"herself\", \"him\", \"himself\", \"his\", \"how\", \"how's\", \"i\", \"i'd\", \"i'll\", \"i'm\", \"i've\", \"if\", \"in\", \"into\", \"is\", \"it\", \"it's\", \"its\", \"itself\", \"let's\", \"me\", \"more\", \"most\", \"my\", \"myself\", \"nor\", \"of\", \"on\", \"once\", \"only\", \"or\", \"other\", \"ought\", \"our\", \"ours\", \"ourselves\", \"out\", \"over\", \"own\", \"same\", \"she\", \"she'd\", \"she'll\", \"she's\", \"should\", \"so\", \"some\", \"such\", \"than\", \"that\", \"that's\", \"the\", \"their\", \"theirs\", \"them\", \"themselves\", \"then\", \"there\", \"there's\", \"these\", \"they\", \"they'd\", \"they'll\", \"they're\", \"they've\", \"this\", \"those\", \"through\", \"to\", \"too\", \"under\", \"until\", \"up\", \"very\", \"was\", \"we\", \"we'd\", \"we'll\", \"we're\", \"we've\", \"were\", \"what\", \"what's\", \"when\", \"when's\", \"where\", \"where's\", \"which\", \"while\", \"who\", \"who's\", \"whom\", \"why\", \"why's\", \"with\", \"would\", \"you\", \"you'd\", \"you'll\", \"you're\", \"you've\", \"your\", \"yours\", \"yourself\", \"yourselves\" ]\n"
      ],
      "execution_count": 421,
      "outputs": []
    },
    {
      "cell_type": "code",
      "metadata": {
        "id": "X70Ir_oJ3CIQ"
      },
      "source": [
        "vocab_size = 55000\n",
        "embedding_dim = 16\n",
        "max_length = 250 # Expected max_len is 120 a few cells down.\n",
        "trunc_type = 'post'\n",
        "padding_type = 'post'\n",
        "oov_tok = \"<OOV>\"\n",
        "training_portion = .8"
      ],
      "execution_count": 422,
      "outputs": []
    },
    {
      "cell_type": "code",
      "metadata": {
        "id": "f-tUitQRPLdb"
      },
      "source": [
        "training_portion=0.8\n",
        "train_set=df.sample(int(df.shape[0]*training_portion))\n",
        "eval_set=df.sample(int(df.shape[0]*(1-training_portion)))"
      ],
      "execution_count": 423,
      "outputs": []
    },
    {
      "cell_type": "code",
      "metadata": {
        "id": "SRnOoRT-3fhv"
      },
      "source": [
        "tokenizer_text =Tokenizer(oov_token=oov_tok)\n",
        "tokenizer_text.fit_on_texts(df.merged)\n",
        "word_index = tokenizer_text.word_index\n",
        "\n",
        "train_sequences = tokenizer_text.texts_to_sequences(train_set.merged)\n",
        "train_padded = pad_sequences(train_sequences, maxlen=max_length, padding=padding_type, truncating=trunc_type)\n",
        "\n",
        "\n",
        "eval_sequences = tokenizer_text.texts_to_sequences(eval_set.merged)\n",
        "eval_padded = pad_sequences(eval_sequences, maxlen=max_length, padding=padding_type, truncating=trunc_type)"
      ],
      "execution_count": 424,
      "outputs": []
    },
    {
      "cell_type": "code",
      "metadata": {
        "id": "ep-G7zQq57AB"
      },
      "source": [
        "tokenizer_label =Tokenizer()\n",
        "tokenizer_label.fit_on_texts(df.category)\n",
        "label_index = tokenizer_label.word_index\n",
        "\n",
        "train_labels = np.array(tokenizer_label.texts_to_sequences(train_set.category))\n",
        "\n",
        "\n",
        "eval_labels = np.array(tokenizer_label.texts_to_sequences(eval_set.category))\n"
      ],
      "execution_count": 440,
      "outputs": []
    },
    {
      "cell_type": "code",
      "metadata": {
        "colab": {
          "base_uri": "https://localhost:8080/"
        },
        "id": "oLYYBsSq9HZx",
        "outputId": "10e4523c-355e-41f1-aebc-6eda9a060b7a"
      },
      "source": [
        "\n",
        "model = tf.keras.Sequential([\n",
        "    tf.keras.layers.Embedding(vocab_size, embedding_dim, input_length=max_length),\n",
        "    tf.keras.layers.GlobalAveragePooling1D(),\n",
        "    tf.keras.layers.Dense(24, activation='relu'),\n",
        "    tf.keras.layers.Dense(6, activation='softmax')\n",
        "])\n",
        "model.compile(loss='sparse_categorical_crossentropy',optimizer='adam',metrics=['accuracy'])\n",
        "model.summary()\n"
      ],
      "execution_count": 426,
      "outputs": [
        {
          "output_type": "stream",
          "text": [
            "Model: \"sequential_18\"\n",
            "_________________________________________________________________\n",
            "Layer (type)                 Output Shape              Param #   \n",
            "=================================================================\n",
            "embedding_18 (Embedding)     (None, 250, 16)           880000    \n",
            "_________________________________________________________________\n",
            "global_average_pooling1d_18  (None, 16)                0         \n",
            "_________________________________________________________________\n",
            "dense_36 (Dense)             (None, 24)                408       \n",
            "_________________________________________________________________\n",
            "dense_37 (Dense)             (None, 6)                 150       \n",
            "=================================================================\n",
            "Total params: 880,558\n",
            "Trainable params: 880,558\n",
            "Non-trainable params: 0\n",
            "_________________________________________________________________\n"
          ],
          "name": "stdout"
        }
      ]
    },
    {
      "cell_type": "code",
      "metadata": {
        "colab": {
          "base_uri": "https://localhost:8080/"
        },
        "id": "FfxP-2Wb_3aF",
        "outputId": "0a0732cf-8d81-45c8-adce-7f4aa9bd8a6b"
      },
      "source": [
        "num_epochs = 30\n",
        "history = model.fit(train_padded, train_labels, epochs=num_epochs, validation_data=(eval_padded, eval_labels))"
      ],
      "execution_count": 427,
      "outputs": [
        {
          "output_type": "stream",
          "text": [
            "Epoch 1/30\n",
            "41/41 [==============================] - 1s 15ms/step - loss: 1.7819 - accuracy: 0.2929 - val_loss: 1.7413 - val_accuracy: 0.4198\n",
            "Epoch 2/30\n",
            "41/41 [==============================] - 0s 12ms/step - loss: 1.7174 - accuracy: 0.4669 - val_loss: 1.6484 - val_accuracy: 0.4259\n",
            "Epoch 3/30\n",
            "41/41 [==============================] - 0s 12ms/step - loss: 1.6080 - accuracy: 0.4390 - val_loss: 1.4939 - val_accuracy: 0.4259\n",
            "Epoch 4/30\n",
            "41/41 [==============================] - 0s 11ms/step - loss: 1.4096 - accuracy: 0.4920 - val_loss: 1.2995 - val_accuracy: 0.4537\n",
            "Epoch 5/30\n",
            "41/41 [==============================] - 0s 12ms/step - loss: 1.2169 - accuracy: 0.5281 - val_loss: 1.0902 - val_accuracy: 0.5525\n",
            "Epoch 6/30\n",
            "41/41 [==============================] - 0s 12ms/step - loss: 1.0076 - accuracy: 0.6013 - val_loss: 0.8925 - val_accuracy: 0.7068\n",
            "Epoch 7/30\n",
            "41/41 [==============================] - 1s 12ms/step - loss: 0.8329 - accuracy: 0.7579 - val_loss: 0.7200 - val_accuracy: 0.8364\n",
            "Epoch 8/30\n",
            "41/41 [==============================] - 0s 11ms/step - loss: 0.6667 - accuracy: 0.8814 - val_loss: 0.5797 - val_accuracy: 0.9506\n",
            "Epoch 9/30\n",
            "41/41 [==============================] - 0s 12ms/step - loss: 0.5075 - accuracy: 0.9767 - val_loss: 0.4687 - val_accuracy: 0.9722\n",
            "Epoch 10/30\n",
            "41/41 [==============================] - 0s 12ms/step - loss: 0.3998 - accuracy: 0.9893 - val_loss: 0.3755 - val_accuracy: 0.9722\n",
            "Epoch 11/30\n",
            "41/41 [==============================] - 0s 12ms/step - loss: 0.3139 - accuracy: 0.9876 - val_loss: 0.2984 - val_accuracy: 0.9846\n",
            "Epoch 12/30\n",
            "41/41 [==============================] - 0s 12ms/step - loss: 0.2371 - accuracy: 0.9952 - val_loss: 0.2331 - val_accuracy: 0.9846\n",
            "Epoch 13/30\n",
            "41/41 [==============================] - 0s 12ms/step - loss: 0.1790 - accuracy: 0.9950 - val_loss: 0.1847 - val_accuracy: 0.9877\n",
            "Epoch 14/30\n",
            "41/41 [==============================] - 1s 12ms/step - loss: 0.1366 - accuracy: 0.9995 - val_loss: 0.1494 - val_accuracy: 0.9877\n",
            "Epoch 15/30\n",
            "41/41 [==============================] - 0s 12ms/step - loss: 0.1025 - accuracy: 0.9988 - val_loss: 0.1251 - val_accuracy: 0.9877\n",
            "Epoch 16/30\n",
            "41/41 [==============================] - 0s 11ms/step - loss: 0.0797 - accuracy: 1.0000 - val_loss: 0.1075 - val_accuracy: 0.9877\n",
            "Epoch 17/30\n",
            "41/41 [==============================] - 0s 11ms/step - loss: 0.0652 - accuracy: 1.0000 - val_loss: 0.0946 - val_accuracy: 0.9877\n",
            "Epoch 18/30\n",
            "41/41 [==============================] - 0s 12ms/step - loss: 0.0525 - accuracy: 1.0000 - val_loss: 0.0848 - val_accuracy: 0.9907\n",
            "Epoch 19/30\n",
            "41/41 [==============================] - 0s 12ms/step - loss: 0.0415 - accuracy: 1.0000 - val_loss: 0.0775 - val_accuracy: 0.9907\n",
            "Epoch 20/30\n",
            "41/41 [==============================] - 0s 12ms/step - loss: 0.0354 - accuracy: 1.0000 - val_loss: 0.0721 - val_accuracy: 0.9907\n",
            "Epoch 21/30\n",
            "41/41 [==============================] - 0s 11ms/step - loss: 0.0290 - accuracy: 1.0000 - val_loss: 0.0670 - val_accuracy: 0.9907\n",
            "Epoch 22/30\n",
            "41/41 [==============================] - 0s 12ms/step - loss: 0.0272 - accuracy: 1.0000 - val_loss: 0.0634 - val_accuracy: 0.9907\n",
            "Epoch 23/30\n",
            "41/41 [==============================] - 0s 11ms/step - loss: 0.0226 - accuracy: 1.0000 - val_loss: 0.0601 - val_accuracy: 0.9907\n",
            "Epoch 24/30\n",
            "41/41 [==============================] - 0s 12ms/step - loss: 0.0194 - accuracy: 1.0000 - val_loss: 0.0577 - val_accuracy: 0.9907\n",
            "Epoch 25/30\n",
            "41/41 [==============================] - 0s 12ms/step - loss: 0.0185 - accuracy: 1.0000 - val_loss: 0.0556 - val_accuracy: 0.9907\n",
            "Epoch 26/30\n",
            "41/41 [==============================] - 0s 11ms/step - loss: 0.0140 - accuracy: 1.0000 - val_loss: 0.0537 - val_accuracy: 0.9907\n",
            "Epoch 27/30\n",
            "41/41 [==============================] - 0s 11ms/step - loss: 0.0135 - accuracy: 1.0000 - val_loss: 0.0522 - val_accuracy: 0.9907\n",
            "Epoch 28/30\n",
            "41/41 [==============================] - 1s 12ms/step - loss: 0.0120 - accuracy: 1.0000 - val_loss: 0.0508 - val_accuracy: 0.9907\n",
            "Epoch 29/30\n",
            "41/41 [==============================] - 0s 12ms/step - loss: 0.0118 - accuracy: 1.0000 - val_loss: 0.0497 - val_accuracy: 0.9907\n",
            "Epoch 30/30\n",
            "41/41 [==============================] - 0s 12ms/step - loss: 0.0095 - accuracy: 1.0000 - val_loss: 0.0486 - val_accuracy: 0.9907\n"
          ],
          "name": "stdout"
        }
      ]
    },
    {
      "cell_type": "code",
      "metadata": {
        "colab": {
          "base_uri": "https://localhost:8080/",
          "height": 279
        },
        "id": "-gDlyBvTU1d8",
        "outputId": "b5ff71bb-185c-4f7e-f131-f61f4907a871"
      },
      "source": [
        "plt.plot(history.history['accuracy'])\n",
        "plt.plot(history.history['val_'+'accuracy'])\n",
        "plt.xlabel(\"Epochs\")\n",
        "plt.ylabel('accuracy')\n",
        "plt.legend(['accuracy', 'val_'+'accuracy'])\n",
        "plt.show()\n"
      ],
      "execution_count": 428,
      "outputs": [
        {
          "output_type": "display_data",
          "data": {
            "image/png": "[encoded data removed]",
            "text/plain": [
              "<Figure size 432x288 with 1 Axes>"
            ]
          },
          "metadata": {
            "tags": [],
            "needs_background": "light"
          }
        }
      ]
    },
    {
      "cell_type": "code",
      "metadata": {
        "colab": {
          "base_uri": "https://localhost:8080/",
          "height": 279
        },
        "id": "dNMX2Y1RXVwn",
        "outputId": "066e055d-1149-4ab5-a55f-025f6c2fa918"
      },
      "source": [
        "plt.plot(history.history['loss'])\n",
        "plt.plot(history.history['val_'+'loss'])\n",
        "plt.xlabel(\"Epochs\")\n",
        "plt.ylabel('loss')\n",
        "plt.legend(['loss', 'val_'+'loss'])\n",
        "plt.show()"
      ],
      "execution_count": 429,
      "outputs": [
        {
          "output_type": "display_data",
          "data": {
            "image/png": "[encoded data removed]",
            "text/plain": [
              "<Figure size 432x288 with 1 Axes>"
            ]
          },
          "metadata": {
            "tags": [],
            "needs_background": "light"
          }
        }
      ]
    },
    {
      "cell_type": "code",
      "metadata": {
        "colab": {
          "base_uri": "https://localhost:8080/"
        },
        "id": "pSeuvBsr1I1s",
        "outputId": "bc107d02-5aeb-4e9e-a165-53a152e68366"
      },
      "source": [
        ""
      ],
      "execution_count": 438,
      "outputs": [
        {
          "output_type": "execute_result",
          "data": {
            "text/plain": [
              "array([3, 4])"
            ]
          },
          "metadata": {
            "tags": []
          },
          "execution_count": 438
        }
      ]
    },
    {
      "cell_type": "code",
      "metadata": {
        "colab": {
          "base_uri": "https://localhost:8080/"
        },
        "id": "KtOyHijKSVQd",
        "outputId": "3d881b5f-9bba-4736-8129-5fa0edcb9b93"
      },
      "source": [
        "from sklearn.metrics import confusion_matrix\n",
        "cnf_matrix = confusion_matrix(eval_labels, np.argmax(model.predict(eval_padded),-1))\n",
        "cnf_matrix"
      ],
      "execution_count": 448,
      "outputs": [
        {
          "output_type": "execute_result",
          "data": {
            "text/plain": [
              "array([[83,  0,  0,  0,  0],\n",
              "       [ 0, 78,  0,  0,  0],\n",
              "       [ 0,  0, 66,  0,  0],\n",
              "       [ 0,  2,  1, 47,  0],\n",
              "       [ 0,  0,  0,  0, 47]])"
            ]
          },
          "metadata": {
            "tags": []
          },
          "execution_count": 448
        }
      ]
    }
  ]
}