{
  "nbformat": 4,
  "nbformat_minor": 0,
  "metadata": {
    "colab": {
      "name": "bbc_news_archive.ipynb",
      "provenance": [],
      "collapsed_sections": [],
      "authorship_tag": "ABX9TyNQ8zq+D4y7jsuypHX7DUf3"
    },
    "kernelspec": {
      "name": "python3",
      "display_name": "Python 3"
    }
  },
  "cells": [
    {
      "cell_type": "code",
      "metadata": {
        "id": "lhsv8G3UbtLb"
      },
      "source": [
        "import tensorflow as tf\n",
        "from tensorflow.keras.preprocessing.text import Tokenizer\n",
        "from tensorflow.keras.preprocessing.sequence import pad_sequences\n",
        "import numpy as np\n",
        "import csv\n",
        "import pandas as pd\n",
        "import matplotlib.pyplot as plt"
      ],
      "execution_count": 288,
      "outputs": []
    },
    {
      "cell_type": "code",
      "metadata": {
        "id": "NvVAzc76c731"
      },
      "source": [
        "## meta data\n",
        "data=[]\n",
        "with open('bbc-news-data.csv','r') as f:\n",
        "  for row in csv.reader(f):\n",
        "    data.append(row[0].split('\\t'))\n",
        "\n",
        "\n",
        "## content of data\n",
        "data_cont=[]\n",
        "with open('bbc-news-data.csv','r') as f:\n",
        "  for row in csv.reader(f):\n",
        "    data_cont.append(row[1:])   \n",
        "\n",
        "col=data[0]\n",
        "df = pd.DataFrame(data[1:],columns=col) \n",
        "\n",
        "\n",
        "for i in range(len(data)):\n",
        "  data_cont[i].insert(0, data[i][-1])\n",
        "    \n"
      ],
      "execution_count": 289,
      "outputs": []
    },
    {
      "cell_type": "code",
      "metadata": {
        "id": "ENPQLM1iiZOJ"
      },
      "source": [
        "del df['content']\n",
        "df['content_all']=data_cont[1:]\n",
        "#df=df['category','file','title','content_all']\n"
      ],
      "execution_count": 290,
      "outputs": []
    },
    {
      "cell_type": "code",
      "metadata": {
        "id": "iWuhL7hKCYHg"
      },
      "source": [
        "df['merged']=''\n",
        "for i in range(df.shape[0]):\n",
        "  df.merged[i] = ' '.join(df.iloc[i][3])"
      ],
      "execution_count": 291,
      "outputs": []
    },
    {
      "cell_type": "code",
      "metadata": {
        "id": "AbQ2NO23Bkhv"
      },
      "source": [
        "df.merged=df.merged.apply(lambda x: x.lower())\n",
        "df.merged=df.merged.apply(lambda x: x.split())\n"
      ],
      "execution_count": 292,
      "outputs": []
    },
    {
      "cell_type": "code",
      "metadata": {
        "id": "h1Jlt1YSgEuW"
      },
      "source": [
        "def preprocess(value):\n",
        "  return [x for x in value if x not in stopwords]\n",
        "df.merged=df.merged.apply(lambda x: preprocess(x))\n"
      ],
      "execution_count": 293,
      "outputs": []
    },
    {
      "cell_type": "code",
      "metadata": {
        "colab": {
          "base_uri": "https://localhost:8080/"
        },
        "id": "HqSUUTnbgdwI",
        "outputId": "e02464dc-eab8-44c5-8c9e-d4cf1505047a"
      },
      "source": [
        ""
      ],
      "execution_count": 295,
      "outputs": [
        {
          "output_type": "execute_result",
          "data": {
            "text/plain": [
              "0       [quarterly, profits, us, media, giant, timewar...\n",
              "1       [owners, embattled, russian, oil, giant, yukos...\n",
              "2       [british, airways, blamed, high, fuel, prices,...\n",
              "3       [shares, uk, drinks, food, firm, allied, domec...\n",
              "4       [japan's, economy, teetered, brink, technical,...\n",
              "                              ...                        \n",
              "1618    [internet, tv, talked, since, start, web, know...\n",
              "1619    [thousands, products, tens, thousands, visitor...\n",
              "1620    [making, games, future, consoles, will, requir...\n",
              "1621    [new, european, directive, put, software, writ...\n",
              "1622    [man, making, sure, us, computer, networks, sa...\n",
              "Name: merged, Length: 1623, dtype: object"
            ]
          },
          "metadata": {
            "tags": []
          },
          "execution_count": 295
        }
      ]
    },
    {
      "cell_type": "code",
      "metadata": {
        "id": "l53ZRnTFrUlF"
      },
      "source": [
        "\n",
        "stopwords = [ \"a\", \"about\", \"above\", \"after\", \"again\", \"against\", \"all\", \"am\", \"an\", \"and\", \"any\", \"are\", \"as\", \"at\", \"be\", \"because\", \"been\", \"before\", \"being\", \"below\", \"between\", \"both\", \"but\", \"by\", \"could\", \"did\", \"do\", \"does\", \"doing\", \"down\", \"during\", \"each\", \"few\", \"for\", \"from\", \"further\", \"had\", \"has\", \"have\", \"having\", \"he\", \"he'd\", \"he'll\", \"he's\", \"her\", \"here\", \"here's\", \"hers\", \"herself\", \"him\", \"himself\", \"his\", \"how\", \"how's\", \"i\", \"i'd\", \"i'll\", \"i'm\", \"i've\", \"if\", \"in\", \"into\", \"is\", \"it\", \"it's\", \"its\", \"itself\", \"let's\", \"me\", \"more\", \"most\", \"my\", \"myself\", \"nor\", \"of\", \"on\", \"once\", \"only\", \"or\", \"other\", \"ought\", \"our\", \"ours\", \"ourselves\", \"out\", \"over\", \"own\", \"same\", \"she\", \"she'd\", \"she'll\", \"she's\", \"should\", \"so\", \"some\", \"such\", \"than\", \"that\", \"that's\", \"the\", \"their\", \"theirs\", \"them\", \"themselves\", \"then\", \"there\", \"there's\", \"these\", \"they\", \"they'd\", \"they'll\", \"they're\", \"they've\", \"this\", \"those\", \"through\", \"to\", \"too\", \"under\", \"until\", \"up\", \"very\", \"was\", \"we\", \"we'd\", \"we'll\", \"we're\", \"we've\", \"were\", \"what\", \"what's\", \"when\", \"when's\", \"where\", \"where's\", \"which\", \"while\", \"who\", \"who's\", \"whom\", \"why\", \"why's\", \"with\", \"would\", \"you\", \"you'd\", \"you'll\", \"you're\", \"you've\", \"your\", \"yours\", \"yourself\", \"yourselves\" ]\n"
      ],
      "execution_count": 296,
      "outputs": []
    },
    {
      "cell_type": "code",
      "metadata": {
        "id": "X70Ir_oJ3CIQ"
      },
      "source": [
        "vocab_size = 100000\n",
        "embedding_dim = 16\n",
        "max_length = 1000 # Expected max_len is 120 a few cells down.\n",
        "trunc_type = 'post'\n",
        "padding_type = 'post'\n",
        "oov_tok = \"<OOV>\"\n",
        "training_portion = .8"
      ],
      "execution_count": 308,
      "outputs": []
    },
    {
      "cell_type": "code",
      "metadata": {
        "id": "f-tUitQRPLdb"
      },
      "source": [
        "training_portion=0.8\n",
        "train_set=df.sample(int(df.shape[0]*training_portion))\n",
        "eval_set=df.sample(int(df.shape[0]*(1-training_portion)))"
      ],
      "execution_count": 314,
      "outputs": []
    },
    {
      "cell_type": "code",
      "metadata": {
        "id": "SRnOoRT-3fhv"
      },
      "source": [
        "tokenizer_text =Tokenizer(oov_token=oov_tok)\n",
        "tokenizer_text.fit_on_texts(df.merged)\n",
        "word_index = tokenizer_text.word_index\n",
        "\n",
        "train_sequences = tokenizer_text.texts_to_sequences(train_set.merged)\n",
        "train_padded = pad_sequences(train_sequences, maxlen=max_length, padding=padding_type, truncating=trunc_type)\n",
        "\n",
        "\n",
        "eval_sequences = tokenizer_text.texts_to_sequences(eval_set.merged)\n",
        "eval_padded = pad_sequences(eval_sequences, maxlen=max_length, padding=padding_type, truncating=trunc_type)"
      ],
      "execution_count": 315,
      "outputs": []
    },
    {
      "cell_type": "code",
      "metadata": {
        "id": "ep-G7zQq57AB"
      },
      "source": [
        "tokenizer_label =Tokenizer()\n",
        "tokenizer_label.fit_on_texts(df.category)\n",
        "label_index = tokenizer_text.word_index\n",
        "\n",
        "train_labels = np.array(tokenizer_label.texts_to_sequences(train_set.category))\n",
        "\n",
        "\n",
        "eval_labels = np.array(tokenizer_label.texts_to_sequences(eval_set.category))\n"
      ],
      "execution_count": 316,
      "outputs": []
    },
    {
      "cell_type": "code",
      "metadata": {
        "colab": {
          "base_uri": "https://localhost:8080/"
        },
        "id": "oLYYBsSq9HZx",
        "outputId": "19c72d0c-ca74-4c6f-e005-cb4c09cfc693"
      },
      "source": [
        "\n",
        "model = tf.keras.Sequential([\n",
        "    tf.keras.layers.Embedding(vocab_size, embedding_dim, input_length=max_length),\n",
        "    tf.keras.layers.GlobalAveragePooling1D(),\n",
        "    tf.keras.layers.Dense(24, activation='relu'),\n",
        "    tf.keras.layers.Dense(6, activation='softmax')\n",
        "])\n",
        "model.compile(loss='sparse_categorical_crossentropy',optimizer='adam',metrics=['accuracy'])\n",
        "model.summary()\n"
      ],
      "execution_count": 317,
      "outputs": [
        {
          "output_type": "stream",
          "text": [
            "Model: \"sequential_9\"\n",
            "_________________________________________________________________\n",
            "Layer (type)                 Output Shape              Param #   \n",
            "=================================================================\n",
            "embedding_9 (Embedding)      (None, 1000, 16)          1600000   \n",
            "_________________________________________________________________\n",
            "global_average_pooling1d_9 ( (None, 16)                0         \n",
            "_________________________________________________________________\n",
            "dense_18 (Dense)             (None, 24)                408       \n",
            "_________________________________________________________________\n",
            "dense_19 (Dense)             (None, 6)                 150       \n",
            "=================================================================\n",
            "Total params: 1,600,558\n",
            "Trainable params: 1,600,558\n",
            "Non-trainable params: 0\n",
            "_________________________________________________________________\n"
          ],
          "name": "stdout"
        }
      ]
    },
    {
      "cell_type": "code",
      "metadata": {
        "colab": {
          "base_uri": "https://localhost:8080/"
        },
        "id": "FfxP-2Wb_3aF",
        "outputId": "199d77bc-cd6c-42b9-a0a3-b78777f47685"
      },
      "source": [
        "num_epochs = 30\n",
        "history = model.fit(train_padded, train_labels, epochs=num_epochs, validation_data=(eval_padded, eval_labels))"
      ],
      "execution_count": 318,
      "outputs": [
        {
          "output_type": "stream",
          "text": [
            "Epoch 1/30\n",
            "41/41 [==============================] - 1s 24ms/step - loss: 1.7799 - accuracy: 0.2132 - val_loss: 1.7461 - val_accuracy: 0.2469\n",
            "Epoch 2/30\n",
            "41/41 [==============================] - 1s 20ms/step - loss: 1.7348 - accuracy: 0.2258 - val_loss: 1.6881 - val_accuracy: 0.2716\n",
            "Epoch 3/30\n",
            "41/41 [==============================] - 1s 20ms/step - loss: 1.6777 - accuracy: 0.2691 - val_loss: 1.6110 - val_accuracy: 0.3364\n",
            "Epoch 4/30\n",
            "41/41 [==============================] - 1s 19ms/step - loss: 1.5946 - accuracy: 0.3211 - val_loss: 1.5405 - val_accuracy: 0.3272\n",
            "Epoch 5/30\n",
            "41/41 [==============================] - 1s 20ms/step - loss: 1.5453 - accuracy: 0.3263 - val_loss: 1.4841 - val_accuracy: 0.3611\n",
            "Epoch 6/30\n",
            "41/41 [==============================] - 1s 20ms/step - loss: 1.4711 - accuracy: 0.3666 - val_loss: 1.4176 - val_accuracy: 0.4383\n",
            "Epoch 7/30\n",
            "41/41 [==============================] - 1s 20ms/step - loss: 1.3780 - accuracy: 0.4821 - val_loss: 1.3398 - val_accuracy: 0.5247\n",
            "Epoch 8/30\n",
            "41/41 [==============================] - 1s 20ms/step - loss: 1.3196 - accuracy: 0.5220 - val_loss: 1.2494 - val_accuracy: 0.5864\n",
            "Epoch 9/30\n",
            "41/41 [==============================] - 1s 20ms/step - loss: 1.2126 - accuracy: 0.6237 - val_loss: 1.1436 - val_accuracy: 0.6667\n",
            "Epoch 10/30\n",
            "41/41 [==============================] - 1s 20ms/step - loss: 1.0987 - accuracy: 0.6545 - val_loss: 1.0344 - val_accuracy: 0.7346\n",
            "Epoch 11/30\n",
            "41/41 [==============================] - 1s 20ms/step - loss: 0.9758 - accuracy: 0.7505 - val_loss: 0.9227 - val_accuracy: 0.7809\n",
            "Epoch 12/30\n",
            "41/41 [==============================] - 1s 20ms/step - loss: 0.8701 - accuracy: 0.7989 - val_loss: 0.8150 - val_accuracy: 0.7932\n",
            "Epoch 13/30\n",
            "41/41 [==============================] - 1s 21ms/step - loss: 0.7608 - accuracy: 0.8230 - val_loss: 0.7150 - val_accuracy: 0.8426\n",
            "Epoch 14/30\n",
            "41/41 [==============================] - 1s 20ms/step - loss: 0.6697 - accuracy: 0.8839 - val_loss: 0.6288 - val_accuracy: 0.8827\n",
            "Epoch 15/30\n",
            "41/41 [==============================] - 1s 20ms/step - loss: 0.5828 - accuracy: 0.9244 - val_loss: 0.5518 - val_accuracy: 0.9012\n",
            "Epoch 16/30\n",
            "41/41 [==============================] - 1s 19ms/step - loss: 0.5051 - accuracy: 0.9463 - val_loss: 0.4817 - val_accuracy: 0.9228\n",
            "Epoch 17/30\n",
            "41/41 [==============================] - 1s 19ms/step - loss: 0.4372 - accuracy: 0.9629 - val_loss: 0.4208 - val_accuracy: 0.9815\n",
            "Epoch 18/30\n",
            "41/41 [==============================] - 1s 20ms/step - loss: 0.3895 - accuracy: 0.9924 - val_loss: 0.3680 - val_accuracy: 0.9753\n",
            "Epoch 19/30\n",
            "41/41 [==============================] - 1s 20ms/step - loss: 0.3310 - accuracy: 0.9878 - val_loss: 0.3241 - val_accuracy: 0.9877\n",
            "Epoch 20/30\n",
            "41/41 [==============================] - 1s 20ms/step - loss: 0.2956 - accuracy: 0.9934 - val_loss: 0.2891 - val_accuracy: 0.9877\n",
            "Epoch 21/30\n",
            "41/41 [==============================] - 1s 21ms/step - loss: 0.2465 - accuracy: 0.9929 - val_loss: 0.2547 - val_accuracy: 0.9969\n",
            "Epoch 22/30\n",
            "41/41 [==============================] - 1s 20ms/step - loss: 0.2234 - accuracy: 0.9963 - val_loss: 0.2271 - val_accuracy: 0.9969\n",
            "Epoch 23/30\n",
            "41/41 [==============================] - 1s 21ms/step - loss: 0.2015 - accuracy: 0.9960 - val_loss: 0.2038 - val_accuracy: 0.9969\n",
            "Epoch 24/30\n",
            "41/41 [==============================] - 1s 20ms/step - loss: 0.1736 - accuracy: 0.9989 - val_loss: 0.1835 - val_accuracy: 0.9969\n",
            "Epoch 25/30\n",
            "41/41 [==============================] - 1s 20ms/step - loss: 0.1498 - accuracy: 0.9977 - val_loss: 0.1643 - val_accuracy: 0.9969\n",
            "Epoch 26/30\n",
            "41/41 [==============================] - 1s 20ms/step - loss: 0.1385 - accuracy: 0.9969 - val_loss: 0.1499 - val_accuracy: 0.9969\n",
            "Epoch 27/30\n",
            "41/41 [==============================] - 1s 20ms/step - loss: 0.1202 - accuracy: 0.9973 - val_loss: 0.1362 - val_accuracy: 0.9969\n",
            "Epoch 28/30\n",
            "41/41 [==============================] - 1s 20ms/step - loss: 0.1132 - accuracy: 0.9964 - val_loss: 0.1243 - val_accuracy: 0.9969\n",
            "Epoch 29/30\n",
            "41/41 [==============================] - 1s 20ms/step - loss: 0.0928 - accuracy: 0.9991 - val_loss: 0.1140 - val_accuracy: 1.0000\n",
            "Epoch 30/30\n",
            "41/41 [==============================] - 1s 20ms/step - loss: 0.0831 - accuracy: 0.9978 - val_loss: 0.1042 - val_accuracy: 0.9969\n"
          ],
          "name": "stdout"
        }
      ]
    },
    {
      "cell_type": "code",
      "metadata": {
        "colab": {
          "base_uri": "https://localhost:8080/",
          "height": 279
        },
        "id": "-gDlyBvTU1d8",
        "outputId": "52c22262-52a7-416c-89a0-6424e3030d38"
      },
      "source": [
        "plt.plot(history.history['accuracy'])\n",
        "plt.plot(history.history['val_'+'accuracy'])\n",
        "plt.xlabel(\"Epochs\")\n",
        "plt.ylabel('accuracy')\n",
        "plt.legend(['accuracy', 'val_'+'accuracy'])\n",
        "plt.show()\n"
      ],
      "execution_count": 321,
      "outputs": [
        {
          "output_type": "display_data",
          "data": {
            "image/png": "[encoded data removed]",
            "text/plain": [
              "<Figure size 432x288 with 1 Axes>"
            ]
          },
          "metadata": {
            "tags": [],
            "needs_background": "light"
          }
        }
      ]
    },
    {
      "cell_type": "code",
      "metadata": {
        "colab": {
          "base_uri": "https://localhost:8080/",
          "height": 279
        },
        "id": "dNMX2Y1RXVwn",
        "outputId": "c0df50b8-322d-4603-a1c1-ad1eb8a020e7"
      },
      "source": [
        "plt.plot(history.history['loss'])\n",
        "plt.plot(history.history['val_'+'loss'])\n",
        "plt.xlabel(\"Epochs\")\n",
        "plt.ylabel('loss')\n",
        "plt.legend(['loss', 'val_'+'loss'])\n",
        "plt.show()"
      ],
      "execution_count": 322,
      "outputs": [
        {
          "output_type": "display_data",
          "data": {
            "image/png": "[encoded data removed]",
            "text/plain": [
              "<Figure size 432x288 with 1 Axes>"
            ]
          },
          "metadata": {
            "tags": [],
            "needs_background": "light"
          }
        }
      ]
    }
  ]
}